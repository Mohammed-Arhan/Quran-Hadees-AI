{
  "nbformat": 4,
  "nbformat_minor": 0,
  "metadata": {
    "colab": {
      "provenance": []
    },
    "kernelspec": {
      "name": "python3",
      "display_name": "Python 3"
    },
    "language_info": {
      "name": "python"
    }
  },
  "cells": [
    {
      "cell_type": "code",
      "source": [
        "!pip install langchain langchain_groq langchain_community pypdf cohere"
      ],
      "metadata": {
        "id": "aWqehY45tVsr",
        "collapsed": true
      },
      "execution_count": null,
      "outputs": []
    },
    {
      "cell_type": "code",
      "source": [],
      "metadata": {
        "id": "sswJlB58wIDy"
      },
      "execution_count": 4,
      "outputs": []
    },
    {
      "cell_type": "code",
      "source": [
        "import os\n",
        "import cohere\n",
        "from langchain.document_loaders import PyPDFLoader\n",
        "from langchain.embeddings import CohereEmbeddings\n",
        "from langchain.vectorstores import FAISS\n",
        "from langchain.text_splitter import RecursiveCharacterTextSplitter\n",
        "from langchain.chains import RetrievalQA\n",
        "from langchain_groq import ChatGroq\n",
        "from langchain.prompts import PromptTemplate\n",
        "\n",
        "\n",
        "def load_and_process_pdfs(pdf_paths):\n",
        "\n",
        "    for path in pdf_paths:\n",
        "        loader = PyPDFLoader(path)\n",
        "        documents=loader.load()\n",
        "\n",
        "\n",
        "    text_splitter = RecursiveCharacterTextSplitter(chunk_size=500, chunk_overlap=50)\n",
        "    return text_splitter.split_documents(documents)\n",
        "\n",
        "\n",
        "cohere_api_key = os.environ.get(\"COHERE_API_KEY\")\n",
        "embeddings = CohereEmbeddings(user_agent=\"app\", model=\"embed-english-v3.0\", cohere_api_key=cohere_api_key)\n",
        "\n",
        "if not os.path.exists(\"embeddings\"):\n",
        "\n",
        "  pdf_files = [\"quran.pdf\", \"hadees.pdf\"]\n",
        "  doc_chunks = load_and_process_pdfs(pdf_files)\n",
        "\n",
        "\n",
        "  vector_store = FAISS.from_documents(doc_chunks, embeddings)\n",
        "  vector_store.save_local(\"embeddings\")\n",
        "  retriever = vector_store.as_retriever()\n",
        "  os.makedirs(\"embeddings\")\n",
        "\n",
        "prompt_template = PromptTemplate(\n",
        "    input_variables=[\"context\", \"question\"],\n",
        "    template=\"\"\"\n",
        "    You are an Islamic scholar (Ustad) providing answers based on the Quran and Hadith.\n",
        "    Respond with wisdom and reference the Quranic meaning or Hadith when necessary.\n",
        "\n",
        "    Context: {context}\n",
        "    Question: {question}\n",
        "\n",
        "    Answer as an Ustad:\n",
        "    \"\"\"\n",
        ")\n",
        "\n",
        "\n",
        "llm= ChatGroq(id=\"DeepSeek-R1-Distill-Llama-70b\")\n",
        "qa_chain = RetrievalQA(llm=llm, retriever=retriever, return_source_documents=True, prompt=prompt_template)\n",
        "\n",
        "\n",
        "query = \"What does Islam say about patience?\"\n",
        "response = qa_chain.run(query)\n",
        "print(response)\n"
      ],
      "metadata": {
        "id": "-OpRkmMD1K33"
      },
      "execution_count": null,
      "outputs": []
    },
    {
      "cell_type": "code",
      "source": [],
      "metadata": {
        "id": "dRgda-Yg3N6x"
      },
      "execution_count": null,
      "outputs": []
    }
  ]
}